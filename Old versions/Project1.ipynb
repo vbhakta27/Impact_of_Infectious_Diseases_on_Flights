{
 "cells": [
  {
   "cell_type": "markdown",
   "metadata": {},
   "source": [
    "# Group 3 - Project 1\n",
    "# Impact of Infectious Diseases on Flights"
   ]
  },
  {
   "cell_type": "code",
   "execution_count": 8,
   "metadata": {},
   "outputs": [],
   "source": [
    "# Dependencies\n",
    "import csv\n",
    "import pandas as pd\n",
    "import matplotlib.pyplot as plt\n",
    "from datetime import datetime\n",
    "import requests\n",
    "from scipy import stats\n",
    "import numpy as np\n",
    "from scipy.stats import linregress\n",
    "import matplotlib\n",
    "import time\n",
    "import calendar\n",
    "import datetime\n",
    "import gmaps\n",
    "\n",
    "from config import g_key"
   ]
  },
  {
   "cell_type": "markdown",
   "metadata": {},
   "source": [
    "## Analyze Total US Airline Data Domestic and International"
   ]
  },
  {
   "cell_type": "code",
   "execution_count": 9,
   "metadata": {},
   "outputs": [],
   "source": [
    "# https://www.transtats.bts.gov/Data_Elements.aspx?Data=2\n",
    "# US flight data for domestic and international\n",
    "# *Most recent three months of international data by airport and by carrier withheld because of confidentiality agreements for individual routes. \n",
    "# Summary totals are shown for all airports and all carriers. \n",
    "\n",
    "flight_data_df = pd.read_csv('RawData/Flights_3_12_2020.csv')"
   ]
  },
  {
   "cell_type": "code",
   "execution_count": 10,
   "metadata": {},
   "outputs": [
    {
     "data": {
      "text/html": [
       "<div>\n",
       "<style scoped>\n",
       "    .dataframe tbody tr th:only-of-type {\n",
       "        vertical-align: middle;\n",
       "    }\n",
       "\n",
       "    .dataframe tbody tr th {\n",
       "        vertical-align: top;\n",
       "    }\n",
       "\n",
       "    .dataframe thead th {\n",
       "        text-align: right;\n",
       "    }\n",
       "</style>\n",
       "<table border=\"1\" class=\"dataframe\">\n",
       "  <thead>\n",
       "    <tr style=\"text-align: right;\">\n",
       "      <th></th>\n",
       "      <th>Year</th>\n",
       "      <th>Month</th>\n",
       "      <th>DOMESTIC</th>\n",
       "      <th>INTERNATIONAL</th>\n",
       "      <th>TOTAL</th>\n",
       "    </tr>\n",
       "  </thead>\n",
       "  <tbody>\n",
       "    <tr>\n",
       "      <td>0</td>\n",
       "      <td>2002</td>\n",
       "      <td>10</td>\n",
       "      <td>815,489</td>\n",
       "      <td>92,565</td>\n",
       "      <td>908,054</td>\n",
       "    </tr>\n",
       "    <tr>\n",
       "      <td>1</td>\n",
       "      <td>2002</td>\n",
       "      <td>11</td>\n",
       "      <td>766,775</td>\n",
       "      <td>91,342</td>\n",
       "      <td>858,117</td>\n",
       "    </tr>\n",
       "    <tr>\n",
       "      <td>2</td>\n",
       "      <td>2002</td>\n",
       "      <td>12</td>\n",
       "      <td>782,175</td>\n",
       "      <td>96,881</td>\n",
       "      <td>879,056</td>\n",
       "    </tr>\n",
       "    <tr>\n",
       "      <td>3</td>\n",
       "      <td>2002</td>\n",
       "      <td>TOTAL</td>\n",
       "      <td>8,085,083</td>\n",
       "      <td>1,023,994</td>\n",
       "      <td>9,109,077</td>\n",
       "    </tr>\n",
       "    <tr>\n",
       "      <td>4</td>\n",
       "      <td>2003</td>\n",
       "      <td>1</td>\n",
       "      <td>785,651</td>\n",
       "      <td>98,053</td>\n",
       "      <td>883,704</td>\n",
       "    </tr>\n",
       "    <tr>\n",
       "      <td>...</td>\n",
       "      <td>...</td>\n",
       "      <td>...</td>\n",
       "      <td>...</td>\n",
       "      <td>...</td>\n",
       "      <td>...</td>\n",
       "    </tr>\n",
       "    <tr>\n",
       "      <td>224</td>\n",
       "      <td>2019</td>\n",
       "      <td>TOTAL</td>\n",
       "      <td>8,591,641</td>\n",
       "      <td>1,620,275</td>\n",
       "      <td>10,211,916</td>\n",
       "    </tr>\n",
       "    <tr>\n",
       "      <td>225</td>\n",
       "      <td>NaN</td>\n",
       "      <td>NaN</td>\n",
       "      <td>NaN</td>\n",
       "      <td>NaN</td>\n",
       "      <td>NaN</td>\n",
       "    </tr>\n",
       "    <tr>\n",
       "      <td>226</td>\n",
       "      <td>Note: All numbers are for scheduled services.</td>\n",
       "      <td>NaN</td>\n",
       "      <td>NaN</td>\n",
       "      <td>NaN</td>\n",
       "      <td>NaN</td>\n",
       "    </tr>\n",
       "    <tr>\n",
       "      <td>227</td>\n",
       "      <td>NaN</td>\n",
       "      <td>NaN</td>\n",
       "      <td>NaN</td>\n",
       "      <td>NaN</td>\n",
       "      <td>NaN</td>\n",
       "    </tr>\n",
       "    <tr>\n",
       "      <td>228</td>\n",
       "      <td>SOURCE: Bureau of Transportation Statistics T-...</td>\n",
       "      <td>NaN</td>\n",
       "      <td>NaN</td>\n",
       "      <td>NaN</td>\n",
       "      <td>NaN</td>\n",
       "    </tr>\n",
       "  </tbody>\n",
       "</table>\n",
       "<p>229 rows × 5 columns</p>\n",
       "</div>"
      ],
      "text/plain": [
       "                                                  Year  Month   DOMESTIC  \\\n",
       "0                                                 2002     10    815,489   \n",
       "1                                                 2002     11    766,775   \n",
       "2                                                 2002     12    782,175   \n",
       "3                                                 2002  TOTAL  8,085,083   \n",
       "4                                                 2003      1    785,651   \n",
       "..                                                 ...    ...        ...   \n",
       "224                                               2019  TOTAL  8,591,641   \n",
       "225                                                NaN    NaN        NaN   \n",
       "226      Note: All numbers are for scheduled services.    NaN        NaN   \n",
       "227                                                NaN    NaN        NaN   \n",
       "228  SOURCE: Bureau of Transportation Statistics T-...    NaN        NaN   \n",
       "\n",
       "    INTERNATIONAL       TOTAL  \n",
       "0          92,565     908,054  \n",
       "1          91,342     858,117  \n",
       "2          96,881     879,056  \n",
       "3       1,023,994   9,109,077  \n",
       "4          98,053     883,704  \n",
       "..            ...         ...  \n",
       "224     1,620,275  10,211,916  \n",
       "225           NaN         NaN  \n",
       "226           NaN         NaN  \n",
       "227           NaN         NaN  \n",
       "228           NaN         NaN  \n",
       "\n",
       "[229 rows x 5 columns]"
      ]
     },
     "execution_count": 10,
     "metadata": {},
     "output_type": "execute_result"
    }
   ],
   "source": [
    "flight_data_df"
   ]
  },
  {
   "cell_type": "code",
   "execution_count": 11,
   "metadata": {},
   "outputs": [],
   "source": [
    "# Drop the last few rows which have null values\n",
    "flight_data_df = flight_data_df.dropna(how='any')\n",
    "\n",
    "# Drop the rows which have totals for each year\n",
    "flight_data_df = flight_data_df[flight_data_df['Month'] != 'TOTAL']"
   ]
  },
  {
   "cell_type": "code",
   "execution_count": 12,
   "metadata": {},
   "outputs": [],
   "source": [
    "# Make all columns as float\n",
    "columns = flight_data_df.columns\n",
    "for column in columns:\n",
    "    flight_data_df[column] = flight_data_df[column].str.replace(\",\",\"\").astype(float)"
   ]
  },
  {
   "cell_type": "code",
   "execution_count": 13,
   "metadata": {},
   "outputs": [],
   "source": [
    "# Make Year and Month into integers\n",
    "flight_data_df['Year'] = flight_data_df['Year'].astype(int)\n",
    "flight_data_df['Month'] = flight_data_df['Month'].astype(int)"
   ]
  },
  {
   "cell_type": "code",
   "execution_count": 14,
   "metadata": {},
   "outputs": [
    {
     "ename": "TypeError",
     "evalue": "'module' object is not callable",
     "output_type": "error",
     "traceback": [
      "\u001b[1;31m---------------------------------------------------------------------------\u001b[0m",
      "\u001b[1;31mTypeError\u001b[0m                                 Traceback (most recent call last)",
      "\u001b[1;32m<ipython-input-14-e9e040f2b66b>\u001b[0m in \u001b[0;36m<module>\u001b[1;34m\u001b[0m\n\u001b[0;32m      2\u001b[0m \u001b[0mDate\u001b[0m \u001b[1;33m=\u001b[0m \u001b[1;33m[\u001b[0m\u001b[1;33m]\u001b[0m\u001b[1;33m\u001b[0m\u001b[1;33m\u001b[0m\u001b[0m\n\u001b[0;32m      3\u001b[0m \u001b[1;32mfor\u001b[0m \u001b[0my\u001b[0m\u001b[1;33m,\u001b[0m \u001b[0mm\u001b[0m \u001b[1;32min\u001b[0m \u001b[0mzip\u001b[0m\u001b[1;33m(\u001b[0m\u001b[0mflight_data_df\u001b[0m\u001b[1;33m.\u001b[0m\u001b[0mYear\u001b[0m\u001b[1;33m,\u001b[0m \u001b[0mflight_data_df\u001b[0m\u001b[1;33m.\u001b[0m\u001b[0mMonth\u001b[0m\u001b[1;33m)\u001b[0m\u001b[1;33m:\u001b[0m\u001b[1;33m\u001b[0m\u001b[1;33m\u001b[0m\u001b[0m\n\u001b[1;32m----> 4\u001b[1;33m     \u001b[0mDate\u001b[0m\u001b[1;33m.\u001b[0m\u001b[0mappend\u001b[0m\u001b[1;33m(\u001b[0m\u001b[0mdatetime\u001b[0m\u001b[1;33m(\u001b[0m\u001b[0my\u001b[0m\u001b[1;33m,\u001b[0m \u001b[0mm\u001b[0m\u001b[1;33m,\u001b[0m \u001b[1;36m1\u001b[0m\u001b[1;33m)\u001b[0m\u001b[1;33m)\u001b[0m\u001b[1;33m\u001b[0m\u001b[1;33m\u001b[0m\u001b[0m\n\u001b[0m\u001b[0;32m      5\u001b[0m \u001b[1;33m\u001b[0m\u001b[0m\n\u001b[0;32m      6\u001b[0m \u001b[0mflight_data_df\u001b[0m\u001b[1;33m[\u001b[0m\u001b[1;34m'Date'\u001b[0m\u001b[1;33m]\u001b[0m \u001b[1;33m=\u001b[0m \u001b[0mDate\u001b[0m\u001b[1;33m\u001b[0m\u001b[1;33m\u001b[0m\u001b[0m\n",
      "\u001b[1;31mTypeError\u001b[0m: 'module' object is not callable"
     ]
    }
   ],
   "source": [
    "# Make a date column that uses the month and year and assumes the 1st of every month\n",
    "Date = []\n",
    "for y, m in zip(flight_data_df.Year, flight_data_df.Month):\n",
    "    Date.append(datetime(y, m, 1))\n",
    "\n",
    "flight_data_df['Date'] = Date"
   ]
  },
  {
   "cell_type": "code",
   "execution_count": null,
   "metadata": {},
   "outputs": [],
   "source": [
    "flight_data_df"
   ]
  },
  {
   "cell_type": "code",
   "execution_count": null,
   "metadata": {},
   "outputs": [],
   "source": [
    "ax = plt.gca()\n",
    "flight_data_df.plot.line(x = 'Date', y='DOMESTIC',ax=ax)\n",
    "flight_data_df.plot.line(x = 'Date', y='INTERNATIONAL',ax=ax)\n",
    "flight_data_df.plot.line(x = 'Date', y='TOTAL',ax=ax)\n",
    "ax.grid()\n",
    "plt.show()"
   ]
  },
  {
   "cell_type": "markdown",
   "metadata": {},
   "source": [
    "## Ebola Data Analysis (Vikash Bhakta)"
   ]
  },
  {
   "cell_type": "code",
   "execution_count": null,
   "metadata": {},
   "outputs": [],
   "source": [
    "#https://data.humdata.org/dataset/ebola-cases-2014\n",
    "ebola_df = pd.read_csv('RawData/ebola_data_db_format.csv')\n",
    "ebola_df.head()"
   ]
  },
  {
   "cell_type": "code",
   "execution_count": null,
   "metadata": {},
   "outputs": [],
   "source": [
    "ebola_df['Indicator'].value_counts()"
   ]
  },
  {
   "cell_type": "code",
   "execution_count": null,
   "metadata": {},
   "outputs": [],
   "source": [
    "# Keep the only two indicators I care about\n",
    "ebola_df = ebola_df[(ebola_df['Indicator']=='Cumulative number of confirmed, probable and suspected Ebola cases')|\n",
    "        (ebola_df['Indicator']=='Cumulative number of confirmed, probable and suspected Ebola deaths')]\n",
    "\n",
    "# Pivot table on values and make new columns as indicators\n",
    "ebola_df = ebola_df.pivot_table(values='value', index=['Country', 'Date'], columns=['Indicator'])\n",
    "ebola_df= ebola_df.reset_index()\n",
    "ebola_df"
   ]
  },
  {
   "cell_type": "code",
   "execution_count": null,
   "metadata": {},
   "outputs": [],
   "source": [
    "ebola_df['Country'].value_counts()"
   ]
  },
  {
   "cell_type": "code",
   "execution_count": null,
   "metadata": {},
   "outputs": [],
   "source": [
    "# Fix country names\n",
    "ebola_df['Country'] = ebola_df['Country'].replace({'Liberia 2': 'Liberia', 'Guinea 2': 'Liberia'})\n",
    "\n",
    "# Rename columns\n",
    "ebola_df = ebola_df.rename(columns=\n",
    "                    {'Cumulative number of confirmed, probable and suspected Ebola deaths': 'Cumulative Number of Ebola Deaths',\n",
    "                    'Cumulative number of confirmed, probable and suspected Ebola cases': 'Cumulative Number of Ebola Cases'})\n",
    "\n",
    "# Sort by date and country\n",
    "ebola_df = ebola_df.sort_values(by=['Date', 'Country'])\n",
    "ebola_df"
   ]
  },
  {
   "cell_type": "code",
   "execution_count": null,
   "metadata": {},
   "outputs": [],
   "source": [
    "# Get the last date for each county so we can get final data\n",
    "last_ebola_data = ebola_df[ebola_df['Date'] == max(ebola_df['Date'])].reset_index()\n",
    "last_ebola_data\n"
   ]
  },
  {
   "cell_type": "markdown",
   "metadata": {},
   "source": [
    "### Ebola Heat Map"
   ]
  },
  {
   "cell_type": "code",
   "execution_count": null,
   "metadata": {},
   "outputs": [],
   "source": [
    "# Create and clean lat/lng csv\n",
    "lat_lng_csv = \"../group3/citycoords.csv\"\n",
    "lat_lng_df = pd.read_csv(lat_lng_csv)\n",
    "lat_lng_df = lat_lng_df.rename(columns={\"name_long\": \"Country\"})\n",
    "# lat_lng_df = lat_lng_df.replace(to_replace=['Ireland'],\n",
    "#                 value='Republic of Ireland')\n",
    "\n",
    "countries_lat_lng = pd.merge(last_ebola_data, lat_lng_df, on='Country')\n",
    "\n",
    "countries_lat_lng = countries_lat_lng[['Country', 'Cumulative Number of Ebola Cases', 'Cumulative Number of Ebola Deaths', 'Longitude', 'Latitude']]\n",
    "\n",
    "# Access maps with unique API key\n",
    "gmaps.configure(api_key=g_key)\n",
    "\n",
    "locations = countries_lat_lng[[\"Latitude\", \"Longitude\"]]\n",
    "\n",
    "# Plot Heatmap\n",
    "fig = gmaps.figure()\n",
    "\n",
    "# Create heat layer\n",
    "heat_layer = gmaps.heatmap_layer(locations, weights=countries_lat_lng['Cumulative Number of Ebola Cases'], \n",
    "                                 dissipating=False, max_intensity=70,\n",
    "                                 point_radius=5)\n",
    "\n",
    "# Add layer\n",
    "fig.add_layer(heat_layer)\n",
    "\n",
    "# Display figure\n",
    "fig"
   ]
  },
  {
   "cell_type": "code",
   "execution_count": null,
   "metadata": {},
   "outputs": [],
   "source": [
    "# Get final counts for cases, deaths, and mortality rate\n",
    "final_ebola_cases = last_ebola_data['Cumulative Number of Ebola Cases'].sum()\n",
    "final_ebola_deaths = last_ebola_data['Cumulative Number of Ebola Deaths'].sum()\n",
    "ebola_mortality_rate = final_ebola_deaths/final_ebola_deaths"
   ]
  },
  {
   "cell_type": "code",
   "execution_count": null,
   "metadata": {},
   "outputs": [],
   "source": [
    "# Get list of dates sorted\n",
    "dates = ebola_df['Date'].unique().tolist()\n",
    "dates.sort()\n",
    "\n",
    "# Group by dates and sum of cases and deaths for each country on date\n",
    "grouped_date_ebola = ebola_df.groupby('Date')\n",
    "total_cases = grouped_date_ebola['Cumulative Number of Ebola Cases'].sum().tolist()\n",
    "total_deathes = grouped_date_ebola['Cumulative Number of Ebola Deaths'].sum().tolist()"
   ]
  },
  {
   "cell_type": "code",
   "execution_count": null,
   "metadata": {},
   "outputs": [],
   "source": [
    "# Get cumulative number of cases and deaths across date\n",
    "grouped_date_ebola =  pd.DataFrame({'Date': dates,\n",
    "                                   'Cumulative Number of Ebola Cases': total_cases,\n",
    "                                   'Cumulative Number of Ebola Deaths': total_deathes})"
   ]
  },
  {
   "cell_type": "code",
   "execution_count": null,
   "metadata": {},
   "outputs": [],
   "source": [
    "# Create columns that have the change of cases and deaths over the dates\n",
    "daily_ebola_cases = [grouped_date_ebola.iloc[0,1]]\n",
    "daily_ebola_deaths = [grouped_date_ebola.iloc[0,2]]\n",
    "\n",
    "for x in range(1,len(grouped_date_ebola)):\n",
    "    daily_case = grouped_date_ebola.iloc[x,1] - grouped_date_ebola.iloc[x-1,1]\n",
    "    daily_ebola_cases.append(daily_case)\n",
    "    daily_deaths = grouped_date_ebola.iloc[x,2] - grouped_date_ebola.iloc[x-1,2]\n",
    "    daily_ebola_deaths.append(daily_deaths)\n",
    "    \n",
    "grouped_date_ebola['Change in Number of Ebola Cases'] = daily_ebola_cases\n",
    "grouped_date_ebola['Change in Number of Ebola Deaths'] = daily_ebola_deaths\n",
    "grouped_date_ebola"
   ]
  },
  {
   "cell_type": "code",
   "execution_count": null,
   "metadata": {},
   "outputs": [],
   "source": [
    "summed_dates = []\n",
    "for row in grouped_date_ebola['Date']:\n",
    "    summed_dates.append(matplotlib.dates.date2num(datetime.strptime(row, '%Y-%m-%d')))\n",
    "\n",
    "cases_over_time, = plt.plot(summed_dates, grouped_date_ebola['Cumulative Number of Ebola Cases'], label=\"Cases\")\n",
    "deaths_over_time, = plt.plot(summed_dates, grouped_date_ebola['Cumulative Number of Ebola Deaths'], label=\"Deaths\")\n",
    "\n",
    "ax = plt.gca()\n",
    "ax.xaxis.set_minor_locator(matplotlib.dates.MonthLocator())\n",
    "ax.xaxis.set_minor_formatter(matplotlib.dates.DateFormatter('%b'))\n",
    "ax.xaxis.set_major_locator(matplotlib.dates.YearLocator())\n",
    "ax.xaxis.set_major_formatter(matplotlib.dates.DateFormatter('%Y'))\n",
    "ax.tick_params(pad=5)\n",
    "plt.xticks(rotation=90)\n",
    "plt.setp(ax.xaxis.get_minorticklabels(), rotation=90)\n",
    "\n",
    "plt.title(\"Ebola Outbreak Over Time\")\n",
    "plt.xlabel(\"Date\")\n",
    "plt.ylabel(\"Cumulative Number of Cases/Deaths\")\n",
    "plt.legend(handles=[cases_over_time, deaths_over_time], loc=\"best\")\n",
    "plt.grid(which='both')\n",
    "plt.show()"
   ]
  },
  {
   "cell_type": "code",
   "execution_count": null,
   "metadata": {},
   "outputs": [],
   "source": [
    "# Create new column that has month and year so we can compare with flight data later\n",
    "grouped_date_ebola['Month and Year'] = pd.to_datetime(grouped_date_ebola['Date']).dt.to_period('M')\n",
    "grouped_ebola = grouped_date_ebola.groupby('Month and Year')\n",
    "grouped_ebola = grouped_ebola.sum()"
   ]
  },
  {
   "cell_type": "code",
   "execution_count": null,
   "metadata": {},
   "outputs": [],
   "source": [
    "# Create new dataframe that has it monthly cases and years\n",
    "grouped_monthly_ebola =  pd.DataFrame({'Monthly Number of Ebola Cases': grouped_ebola['Change in Number of Ebola Cases'],\n",
    "                                   'Monthly Number of Ebola Deaths': grouped_ebola['Change in Number of Ebola Deaths']})\n",
    "\n",
    "grouped_monthly_ebola = grouped_monthly_ebola.reset_index()\n",
    "# Make new columns for each month and year so we can merge with flight data\n",
    "grouped_monthly_ebola['Month'] = grouped_monthly_ebola['Month and Year'].dt.month\n",
    "grouped_monthly_ebola['Year'] = grouped_monthly_ebola['Month and Year'].dt.year\n",
    "\n",
    "grouped_monthly_ebola"
   ]
  },
  {
   "cell_type": "code",
   "execution_count": null,
   "metadata": {},
   "outputs": [],
   "source": [
    "ebola_flight_data = pd.read_csv('RawData/Ebola_Top3Countries_2013-2017.csv')\n",
    "ebola_flight_data"
   ]
  },
  {
   "cell_type": "code",
   "execution_count": null,
   "metadata": {},
   "outputs": [],
   "source": [
    "# Make a Month and Year column\n",
    "Date = []\n",
    "for y, m in zip(ebola_flight_data.YEAR, ebola_flight_data.MONTH):\n",
    "    Date.append(datetime(y, m,1))\n",
    "ebola_flight_data['Date'] = Date \n",
    "ebola_flight_data['Month and Year'] = pd.to_datetime(ebola_flight_data['Date']).dt.to_period('M')\n",
    "\n",
    "# Get number of flights per month/year\n",
    "monthly_flights_ebola = ebola_flight_data['Month and Year'].value_counts().rename_axis('Month and Year').reset_index(name='Flights')\n",
    "monthly_flights_ebola = monthly_flights_ebola.sort_values(by=['Month and Year'])\n",
    "monthly_flights_ebola\n"
   ]
  },
  {
   "cell_type": "code",
   "execution_count": null,
   "metadata": {},
   "outputs": [],
   "source": [
    "ax = plt.gca()\n",
    "grouped_monthly_ebola.plot.line(x = 'Month and Year', y='Monthly Number of Ebola Cases',ax=ax)\n",
    "grouped_monthly_ebola.plot.line(x = 'Month and Year', y='Monthly Number of Ebola Deaths',ax=ax)\n",
    "monthly_flights_ebola.plot.line(x = 'Month and Year', y='Flights',ax=ax, secondary_y = True)\n",
    "plt.title(\" African International Flights vs Ebola cases/deaths over Time\")\n",
    "ax.set_ylabel('Number of cases/deaths')\n",
    "ax.right_ax.set_ylabel('Number of flights')\n",
    "plt.grid()\n",
    "plt.show()"
   ]
  },
  {
   "cell_type": "code",
   "execution_count": null,
   "metadata": {},
   "outputs": [],
   "source": [
    "merged_ebola_flight_data = pd.merge(monthly_flights_ebola, grouped_monthly_ebola, on=['Month and Year'])\n",
    "merged_ebola_flight_data"
   ]
  },
  {
   "cell_type": "code",
   "execution_count": null,
   "metadata": {},
   "outputs": [],
   "source": [
    "# Build a scatter plot\n",
    "plt.scatter(merged_ebola_flight_data[\"Monthly Number of Ebola Cases\"], merged_ebola_flight_data[\"Flights\"], marker=\"o\", edgecolors='black')\n",
    "\n",
    "# Incorporate the other graph properties\n",
    "plt.title(\"African International Flights vs Ebola Cases\")\n",
    "plt.ylabel(\"Number of Flights\")\n",
    "plt.xlabel(\"Number of Ebola Cases\")\n",
    "plt.grid(True)\n",
    "\n",
    "x_values = merged_ebola_flight_data[\"Monthly Number of Ebola Cases\"]\n",
    "y_values = merged_ebola_flight_data[\"Flights\"]\n",
    "\n",
    "(slope, intercept, rvalue, pvalue, stderr) = linregress(x_values, y_values)\n",
    "regress_values = x_values * slope + intercept\n",
    "line_eq = \"y = \" + str(round(slope,6)) + \"x + \" + str(round(intercept,2))\n",
    "plt.plot(x_values,regress_values,\"r-\")\n",
    "plt.annotate(line_eq,(3000,12),fontsize=15,color=\"red\")\n",
    "print(f\"The r-squared is: {rvalue}\")\n",
    "plt.show()\n"
   ]
  },
  {
   "cell_type": "markdown",
   "metadata": {},
   "source": [
    "## SARS Data Analysis (Ryan Ashcraft)"
   ]
  },
  {
   "cell_type": "code",
   "execution_count": null,
   "metadata": {},
   "outputs": [],
   "source": [
    "# https://www.kaggle.com/imdevskp/sars-outbreak-2003-complete-dataset\n",
    "# Create a reference the CSV file desired\n",
    "SARS_csv = \"../group3/RawData/sars_2003_complete_dataset_clean.csv\"\n",
    "\n",
    "# Read the CSV into a Pandas DataFrame\n",
    "SARS_df = pd.read_csv(SARS_csv)\n",
    "\n",
    "SARS_df"
   ]
  },
  {
   "cell_type": "code",
   "execution_count": null,
   "metadata": {},
   "outputs": [],
   "source": [
    "grouped_SARS = SARS_df.groupby('Date')\n",
    "cumulative_SARS = grouped_SARS.sum()\n",
    "\n",
    "SARS_summary = pd.DataFrame({\n",
    "                             \"Case Count\": cumulative_SARS['Cumulative number of case(s)'],\n",
    "                             \"Death Count\": cumulative_SARS['Number of deaths'],\n",
    "                             \"Recovered Count\": cumulative_SARS['Number recovered']\n",
    "                            })\n",
    "\n",
    "SARS_summary = SARS_summary.reset_index()\n",
    "SARS_summary"
   ]
  },
  {
   "cell_type": "code",
   "execution_count": null,
   "metadata": {},
   "outputs": [],
   "source": [
    "# Combine Chinese Data\n",
    "SARS_china = SARS_df.replace(to_replace=['Hong Kong SAR, China', 'Macao SAR, China', 'Taiwan, China'],\n",
    "                value='China')\n",
    "SARS_final = SARS_china.replace(to_replace=['Viet Nam'],\n",
    "                value='Vietnam')\n",
    "\n",
    "country_totals = SARS_final[SARS_final['Date'] == max(SARS_final['Date'])].reset_index()\n",
    "country_totals"
   ]
  },
  {
   "cell_type": "code",
   "execution_count": null,
   "metadata": {},
   "outputs": [],
   "source": [
    "grouped_countries = country_totals.groupby('Country')\n",
    "grouped_countries = grouped_countries.sum()\n",
    "grouped_countries = grouped_countries.drop(['index'], axis=1)\n",
    "\n",
    "country_summary = pd.DataFrame({\n",
    "                             \"Case Count\": grouped_countries['Cumulative number of case(s)'],\n",
    "                             \"Death Count\": grouped_countries['Number of deaths'],\n",
    "                             \"Recovered Count\": grouped_countries['Number recovered'],\n",
    "                             \"Mortality Rate\": 100*(grouped_countries['Number of deaths']/grouped_countries['Cumulative number of case(s)'])\n",
    "                            })\n",
    "\n",
    "country_summary['Mortality Rate'] = country_summary['Mortality Rate'].map(\"{:.2f}%\".format)\n",
    "\n",
    "country_summary"
   ]
  },
  {
   "cell_type": "code",
   "execution_count": null,
   "metadata": {},
   "outputs": [],
   "source": [
    "summed_dates = []\n",
    "for row in SARS_summary['Date']:\n",
    "    summed_dates.append(matplotlib.dates.date2num(datetime.strptime(row, '%Y-%m-%d')))\n",
    "\n",
    "cases_over_time, = plt.plot(summed_dates, SARS_summary['Case Count'], label=\"Cases\")\n",
    "deaths_over_time, = plt.plot(summed_dates, SARS_summary['Death Count'], label=\"Deaths\")\n",
    "\n",
    "# x_axis = dates\n",
    "# y_axis = SARS_summary['Case Count']\n",
    "\n",
    "ax = plt.gca()\n",
    "ax.xaxis.set_minor_locator(matplotlib.dates.MonthLocator())\n",
    "ax.xaxis.set_minor_formatter(matplotlib.dates.DateFormatter('%b'))\n",
    "ax.xaxis.set_major_locator(matplotlib.dates.YearLocator())\n",
    "ax.xaxis.set_major_formatter(matplotlib.dates.DateFormatter('%Y'))\n",
    "ax.tick_params(pad=5)\n",
    "\n",
    "# ax.plot(x_axis, y_axis)\n",
    "plt.title(\"SARS Outbreak Over Time\")\n",
    "plt.xlabel(\"Months in 2003\")\n",
    "plt.ylabel(\"Cumulative Number of Cases/Deaths\")\n",
    "plt.legend(handles=[cases_over_time, deaths_over_time], loc=\"best\")\n",
    "plt.grid(which='both')\n",
    "plt.savefig('Plots/SARS_Over_Time.png')\n",
    "plt.show()"
   ]
  },
  {
   "cell_type": "markdown",
   "metadata": {},
   "source": [
    "### SARS Heatmap"
   ]
  },
  {
   "cell_type": "code",
   "execution_count": null,
   "metadata": {},
   "outputs": [],
   "source": [
    "# Create and clean lat/lng csv\n",
    "lat_lng_csv = \"../group3/citycoords.csv\"\n",
    "lat_lng_df = pd.read_csv(lat_lng_csv)\n",
    "lat_lng_df = lat_lng_df.rename(columns={\"name_long\": \"Country\"})\n",
    "lat_lng_df = lat_lng_df.replace(to_replace=['Ireland'],\n",
    "                value='Republic of Ireland')\n",
    "\n",
    "countries_lat_lng = pd.merge(country_summary, lat_lng_df, on='Country')\n",
    "\n",
    "countries_lat_lng = countries_lat_lng[['Country', 'Case Count', 'Death Count', 'Recovered Count', 'Mortality Rate', 'Longitude', 'Latitude']]\n",
    "\n",
    "# Access maps with unique API key\n",
    "gmaps.configure(api_key=g_key)\n",
    "\n",
    "locations = countries_lat_lng[[\"Latitude\", \"Longitude\"]]\n",
    "\n",
    "# Plot Heatmap\n",
    "fig = gmaps.figure()\n",
    "\n",
    "# Create heat layer\n",
    "heat_layer = gmaps.heatmap_layer(locations, weights=countries_lat_lng['Case Count'], \n",
    "                                 dissipating=False, max_intensity=70,\n",
    "                                 point_radius=5)\n",
    "\n",
    "# Add layer\n",
    "fig.add_layer(heat_layer)\n",
    "\n",
    "# Display figure\n",
    "fig"
   ]
  },
  {
   "cell_type": "code",
   "execution_count": null,
   "metadata": {},
   "outputs": [],
   "source": [
    "SARS_cases = country_summary['Case Count'].sum()\n",
    "\n",
    "SARS_deaths = country_summary['Death Count'].sum()\n",
    "\n",
    "s_final_summary = pd.DataFrame({'Cases': [SARS_cases],\n",
    "                              'Deaths': [SARS_deaths]\n",
    "                            })\n",
    "\n",
    "s_final_summary['Mortality Rate'] = 100*(s_final_summary['Deaths']/s_final_summary['Cases'])\n",
    "s_final_summary['Mortality Rate'] = s_final_summary['Mortality Rate'].map(\"{:.2f}%\".format)\n",
    "\n",
    "\n",
    "s_final_summary"
   ]
  },
  {
   "cell_type": "markdown",
   "metadata": {},
   "source": [
    "# SARS Flight Data"
   ]
  },
  {
   "cell_type": "code",
   "execution_count": null,
   "metadata": {},
   "outputs": [],
   "source": [
    "daily_SARS_cases = [SARS_summary.iloc[0,1]]\n",
    "daily_SARS_deaths = [SARS_summary.iloc[0,2]]\n",
    "for x in range(1,len(SARS_summary)):\n",
    "    daily_case = SARS_summary.iloc[x,1] - SARS_summary.iloc[x-1,1]\n",
    "    daily_SARS_cases.append(daily_case)\n",
    "    daily_deaths = SARS_summary.iloc[x,2] - SARS_summary.iloc[x-1,2]\n",
    "    daily_SARS_deaths.append(daily_deaths)\n",
    "\n",
    "daily_SARS_cases\n",
    "daily_SARS_deaths\n",
    "\n",
    "SARS_summary['Daily Cases'] = daily_SARS_cases\n",
    "SARS_summary['Daily Deaths'] = daily_SARS_deaths\n",
    "\n",
    "SARS_summary"
   ]
  },
  {
   "cell_type": "code",
   "execution_count": null,
   "metadata": {},
   "outputs": [],
   "source": [
    "SARS_summary['Month and Year'] = pd.to_datetime(SARS_summary['Date']).dt.to_period('M')\n",
    "\n",
    "SARS_summary"
   ]
  },
  {
   "cell_type": "code",
   "execution_count": null,
   "metadata": {},
   "outputs": [],
   "source": [
    "monthly_grouping = SARS_summary.groupby('Month and Year')\n",
    "monthly_grouping = monthly_grouping.sum()\n",
    "monthly_grouping\n",
    "\n",
    "monthly_sars_summary = pd.DataFrame({'Monthly Cases': monthly_grouping['Daily Cases'],\n",
    "                                     'Monthly Deaths': monthly_grouping['Daily Deaths'],\n",
    "                                     })\n",
    "\n",
    "monthly_sars_summary = monthly_sars_summary.reset_index()\n",
    "monthly_sars_summary['Month'] = monthly_sars_summary['Month and Year'].dt.month\n",
    "monthly_sars_summary['Year'] = monthly_sars_summary['Month and Year'].dt.year\n",
    "\n",
    "monthly_sars_summary"
   ]
  },
  {
   "cell_type": "code",
   "execution_count": null,
   "metadata": {},
   "outputs": [],
   "source": [
    "sars_flight_df = pd.read_csv('RawData/sars_flight_data_2002-2004.csv')"
   ]
  },
  {
   "cell_type": "code",
   "execution_count": null,
   "metadata": {},
   "outputs": [],
   "source": [
    "sars_flight_df"
   ]
  },
  {
   "cell_type": "code",
   "execution_count": null,
   "metadata": {},
   "outputs": [],
   "source": [
    "# Drop the last few rows which have null values\n",
    "sars_flight_df = sars_flight_df.dropna(how='any')\n",
    "sars_flight_df"
   ]
  },
  {
   "cell_type": "code",
   "execution_count": null,
   "metadata": {},
   "outputs": [],
   "source": [
    "# Drop the rows which have totals for each year\n",
    "sars_flight_df = sars_flight_df[sars_flight_df['PASSENGERS'] != 0]\n",
    "sars_flight_df"
   ]
  },
  {
   "cell_type": "code",
   "execution_count": null,
   "metadata": {},
   "outputs": [],
   "source": [
    "Date = []\n",
    "for y, m in zip(sars_flight_df.YEAR, sars_flight_df.MONTH):\n",
    "    Date.append(datetime(y, m, 1))\n",
    "\n",
    "sars_flight_df['Date'] = Date\n",
    "\n",
    "sars_flight_df"
   ]
  },
  {
   "cell_type": "code",
   "execution_count": null,
   "metadata": {},
   "outputs": [],
   "source": [
    "grouped_sars_flights = sars_flight_df.groupby('Date')\n",
    "sars_flights_by_date = grouped_sars_flights.count()\n",
    "sars_flights_by_date = sars_flights_by_date.reset_index()\n",
    "sars_flights_by_date['MONTH'] = sars_flights_by_date['Date'].dt.month\n",
    "sars_flights_by_date['YEAR'] = sars_flights_by_date['Date'].dt.year\n",
    "\n",
    "sars_flights_summary = pd.DataFrame({'Date': sars_flights_by_date['Date'],\n",
    "                                     'Flights per Month': sars_flights_by_date['PASSENGERS'],\n",
    "                                     'Month': sars_flights_by_date['MONTH'],\n",
    "                                     'Year': sars_flights_by_date['YEAR']\n",
    "                                    })\n",
    "\n",
    "sars_flights_summary"
   ]
  },
  {
   "cell_type": "code",
   "execution_count": null,
   "metadata": {},
   "outputs": [],
   "source": [
    "ax = plt.gca()\n",
    "sars_flights_summary.plot.line(x ='Date', y='Flights per Month',ax=ax)\n",
    "plt.title('Flights per Month between the USA and China, Canada, and Singapore')\n",
    "plt.show()"
   ]
  },
  {
   "cell_type": "code",
   "execution_count": null,
   "metadata": {},
   "outputs": [],
   "source": [
    "sars_flight_data = pd.merge(sars_flights_summary, monthly_sars_summary, on=['Month', 'Year'])\n",
    "\n",
    "sars_flight_data"
   ]
  },
  {
   "cell_type": "code",
   "execution_count": null,
   "metadata": {},
   "outputs": [],
   "source": [
    "#run scatter plot and calculate r square\n",
    "x_values = sars_flight_data['Monthly Cases']\n",
    "y_values = sars_flight_data['Flights per Month']\n",
    "(slope, intercept, rvalue, pvalue, stderr) = linregress(x_values, y_values)\n",
    "regress_values = x_values * slope + intercept\n",
    "line_eq = \"y = \" + str(round(slope,2)) + \"x + \" + str(round(intercept,2))\n",
    "plt.scatter(x_values,y_values)\n",
    "plt.plot(x_values,regress_values,\"r-\")\n",
    "plt.annotate(line_eq,(2000,750),fontsize=15,color=\"red\")\n",
    "plt.xlabel('Cases per Month')\n",
    "plt.ylabel('Flights per Month')\n",
    "plt.title(\"Flights to Most Impacted Countries vs SARS Cases\")\n",
    "print(f\"The r-squared is: {rvalue}\")\n",
    "plt.savefig('Plots/SARS_Flight_Scatter.png')\n",
    "plt.grid(which='both')\n",
    "plt.show()\n"
   ]
  },
  {
   "cell_type": "code",
   "execution_count": null,
   "metadata": {},
   "outputs": [],
   "source": [
    "#create average dataframe\n",
    "avg_flight_df = sars_flights_summary.groupby(['Month']).mean()\n",
    "\n",
    "#drop Year columns\n",
    "del avg_flight_df['Year']\n",
    "\n",
    "avg_flight_df.head()"
   ]
  },
  {
   "cell_type": "code",
   "execution_count": null,
   "metadata": {},
   "outputs": [],
   "source": [
    "#do a second merge to add average data frame\n",
    "flights_w_avg = pd.merge(sars_flight_data, avg_flight_df, on = 'Month', how = \"inner\", suffixes = (\"\", \"_AVG\"))\n",
    "\n",
    "flights_w_avg"
   ]
  },
  {
   "cell_type": "code",
   "execution_count": null,
   "metadata": {},
   "outputs": [],
   "source": [
    "plt.figure(figsize = (10,5))\n",
    "ax = plt.gca()\n",
    "\n",
    "flights_w_avg.plot.line(x='Date', y='Monthly Cases', ax=ax, secondary_y = True)\n",
    "flights_w_avg.plot.line(x='Date', y='Flights per Month', ax=ax, label=\"Flights per Month during SARS\")\n",
    "flights_w_avg.plot.line(x='Date', y='Flights per Month_AVG', ax=ax, label=\"Historical Flights per Month\", linestyle = '-.')\n",
    "\n",
    "plt.title(\"Impact on Flights to and from Most Impacted Countries\")\n",
    "plt.xlabel(\"Date\")\n",
    "plt.savefig('Plots/Historical_SARS.png')\n",
    "plt.show()"
   ]
  },
  {
   "cell_type": "markdown",
   "metadata": {},
   "source": [
    "# H1N1 Data Analysis (Luis Olguin)"
   ]
  },
  {
   "cell_type": "code",
   "execution_count": null,
   "metadata": {},
   "outputs": [],
   "source": [
    "# Create a reference the CSV file desired\n",
    "#Source: http://apps.who.int/flumart/Default?ReportNo=12\n",
    "\n",
    "flu_file = \"../group3/RawData/flu_data.csv\"\n",
    "\n",
    "#read CSV input files\n",
    "flu_data = pd.read_csv(flu_file, encoding = 'ISO-8859-1')\n",
    "\n",
    "#convert time values from flu data\n",
    "flu_data['SDATE'] = pd.to_datetime(flu_data[\"SDATE\"])\n",
    "flu_data['EDATE'] = pd.to_datetime(flu_data[\"EDATE\"])\n",
    "\n",
    "#rename columns in flu data\n",
    "flu_data = flu_data.rename(columns = {'AH1N12009':'H1N1_Cases'})\n",
    "\n",
    "#shorten time-frame in flu data\n",
    "trimmed_flu_data = flu_data.loc[(flu_data[\"EDATE\"] >= \"2009-05-01\") & (flu_data[\"EDATE\"] < \"2010-04-01\") ]\n",
    "\n",
    "#remove unecessary columns  in flu data\n",
    "trimmed_flu_data = trimmed_flu_data[['WHOREGION', 'Country', 'Year', 'Month', 'Week', 'SDATE', 'EDATE', 'H1N1_Cases', 'TITLE' ]]\n",
    "\n",
    "#preview data\n",
    "trimmed_flu_data.head()"
   ]
  },
  {
   "cell_type": "code",
   "execution_count": null,
   "metadata": {},
   "outputs": [],
   "source": [
    "# replace NaN values with 0's\n",
    "trimmed_flu_data = trimmed_flu_data.fillna(0)\n",
    "\n",
    "trimmed_flu_data"
   ]
  },
  {
   "cell_type": "markdown",
   "metadata": {},
   "source": [
    "# H1N1 Line Plots: Total and By Region"
   ]
  },
  {
   "cell_type": "code",
   "execution_count": null,
   "metadata": {},
   "outputs": [],
   "source": [
    "#Code here is used to plot Total Observed Weekly H1N1 Cases:\n",
    "\n",
    "#group trimmed flu data by EDATE\n",
    "who_total = trimmed_flu_data.groupby([\"EDATE\"])\n",
    "\n",
    "#grab sum\n",
    "who_vol = who_total[\"H1N1_Cases\"].sum()\n",
    "\n",
    "#reset index\n",
    "who_vol.sort_index(inplace = True)\n",
    "\n",
    "#plot data\n",
    "plt.figure(figsize = (15,5))\n",
    "main_plot = plt.plot( who_vol, color = \"blue\", label = \"Cases\")\n",
    "plt.tick_params(axis = 'both', labelsize = 10)\n",
    "\n",
    "ax = plt.axes()\n",
    "\n",
    "#set titles and axis labels\n",
    "plt.title(\"Observed Weekly H1N1 Cases\", fontsize = 20)\n",
    "plt.ylabel(\"Number of Cases\", fontsize = 15)\n",
    "plt.xlabel(\"Date\", fontsize = 15)\n",
    "plt.grid(axis = 'y')\n",
    "plt.savefig(\"plots/total_observed_h1n1_cases.png\")\n",
    "plt.show()"
   ]
  },
  {
   "cell_type": "code",
   "execution_count": null,
   "metadata": {},
   "outputs": [],
   "source": [
    "#Code here is used to plot Total Observed Weekly H1N1 Cases BY REGION:\n",
    "\n",
    "#create filtered dataframes\n",
    "african = trimmed_flu_data.loc[trimmed_flu_data[\"WHOREGION\"] == 'African Region of WHO']\n",
    "eastern = trimmed_flu_data.loc[trimmed_flu_data[\"WHOREGION\"] == 'Eastern Mediterranean Region of WHO']\n",
    "european = trimmed_flu_data.loc[trimmed_flu_data[\"WHOREGION\"] == 'European Region of WHO']\n",
    "americas = trimmed_flu_data.loc[trimmed_flu_data[\"WHOREGION\"] == 'Region of the Americas of WHO']\n",
    "southeast = trimmed_flu_data.loc[trimmed_flu_data[\"WHOREGION\"] == 'South-East Asia Region of WHO']\n",
    "western_pacific = trimmed_flu_data.loc[trimmed_flu_data[\"WHOREGION\"] == 'Western Pacific Region of WHO']\n",
    "\n",
    "#group by EDATE\n",
    "african_grouped = african.groupby(['EDATE'])\n",
    "eastern_grouped = eastern.groupby(['EDATE'])\n",
    "european_grouped = european.groupby(['EDATE'])\n",
    "americas_grouped = americas.groupby(['EDATE'])\n",
    "southeast_grouped = southeast.groupby(['EDATE'])\n",
    "western_pacific_grouped = western_pacific.groupby(['EDATE'])\n",
    "\n",
    "#grab summed cases\n",
    "african_vol = african_grouped[\"H1N1_Cases\"].sum()\n",
    "eastern_vol = eastern_grouped[\"H1N1_Cases\"].sum()\n",
    "european_vol = european_grouped[\"H1N1_Cases\"].sum()\n",
    "americas_vol = americas_grouped[\"H1N1_Cases\"].sum()\n",
    "southeast_vol = southeast_grouped[\"H1N1_Cases\"].sum()\n",
    "western_pacific_vol = western_pacific_grouped[\"H1N1_Cases\"].sum()\n",
    "\n",
    "#plot lines\n",
    "plt.figure(figsize = (15,5))\n",
    "african_plot = plt.plot(african_vol, color=\"blue\", label = \"African Region\")\n",
    "eastern_plot, = plt.plot(eastern_vol , color=\"gray\", label = \"Eastern Mediterranean Region\")\n",
    "european_plot, = plt.plot(european_vol , color=\"green\", label = \"European Region\")\n",
    "americas_plot, = plt.plot(americas_vol , color=\"purple\", label = \"Americas Region\")\n",
    "southeast_plot, = plt.plot(southeast_vol , color=\"yellow\", label = \"South-East Asia Region\")\n",
    "western_pacific_plot, = plt.plot(western_pacific_vol , color=\"red\", label = \"Western Pacific Region\")\n",
    "\n",
    "#set titles and axis labels\n",
    "plt.title(\"Observed Weekly H1N1 Cases By WHO Region\", fontsize = 20)\n",
    "plt.ylabel(\"Number of Cases\", fontsize = 15)\n",
    "plt.xlabel(\"Date\", fontsize = 15)\n",
    "plt.legend(loc = \"best\")\n",
    "plt.grid(axis = 'y')\n",
    "plt.savefig(\"plots/region_observed_h1n1_cases.png\")\n",
    "plt.show()"
   ]
  },
  {
   "cell_type": "markdown",
   "metadata": {},
   "source": [
    "# H1N1 Flight Data Portion"
   ]
  },
  {
   "cell_type": "code",
   "execution_count": null,
   "metadata": {},
   "outputs": [],
   "source": [
    "#create average flight dataframe\n",
    "avg_flight_df = flight_data_df.groupby(['Month']).mean()\n",
    "\n",
    "#drop Year columns in average flight df\n",
    "del avg_flight_df['Year']\n",
    "\n",
    "#preview flight df\n",
    "avg_flight_df.head()"
   ]
  },
  {
   "cell_type": "code",
   "execution_count": null,
   "metadata": {},
   "outputs": [],
   "source": [
    "#create USA specific df\n",
    "usa_df = trimmed_flu_data.loc[trimmed_flu_data[\"Country\"] == 'United States of America']\n",
    "\n",
    "#group by Year and Month\n",
    "usa_df = usa_df.groupby(['Year', 'Month']).sum()\n",
    "\n",
    "#remove columns\n",
    "del usa_df['Week']\n",
    "\n",
    "#merge usa flight and flu data\n",
    "merged_df = pd.merge(flight_data_df, usa_df, on = ['Year', 'Month'], how=\"inner\")\n",
    "\n",
    "#do a second merge to add average flight df\n",
    "merged_df = pd.merge(merged_df, avg_flight_df, on = 'Month', how = \"inner\", suffixes = (\"\", \"_AVG\"))\n",
    "\n",
    "\n",
    "merged_df.sort_values(by = ['Date'], inplace = True, ascending = True, axis = 0)\n",
    "\n",
    "merged_df"
   ]
  },
  {
   "cell_type": "code",
   "execution_count": null,
   "metadata": {},
   "outputs": [],
   "source": [
    "#plotting the USA data\n",
    "\n",
    "plt.figure(figsize = (10,5))\n",
    "ax = plt.gca()\n",
    "\n",
    "\n",
    "merged_df.plot.line(x = 'Date', y='DOMESTIC', ax=ax)\n",
    "merged_df.plot.line(x = 'Date', y = 'DOMESTIC_AVG', ax=ax, linestyle = '-.')\n",
    "\n",
    "#create a second axis that contains the H1N1 Case data\n",
    "ax2 = merged_df.plot.line(x = 'Date', y='H1N1_Cases', ax=ax, secondary_y = True, label = 'US H1N1 Cases')\n",
    "\n",
    "#set titles and labels\n",
    "plt.title(\"Domestic Flights vs USA H1N1 Cases\")\n",
    "ax.set_ylabel('# of Domestic Flights')\n",
    "ax2.set_ylabel('# of H1N1 Cases')\n",
    "\n",
    "#save and show chart\n",
    "plt.savefig(\"plots/line_domestic_flights_vs_h1n1.png\")\n",
    "plt.show()"
   ]
  },
  {
   "cell_type": "code",
   "execution_count": null,
   "metadata": {},
   "outputs": [],
   "source": [
    "#run scatter plot and calculate r square\n",
    "x_values = merged_df['H1N1_Cases']\n",
    "y_values = merged_df['DOMESTIC']\n",
    "(slope, intercept, rvalue, pvalue, stderr) = linregress(x_values, y_values)\n",
    "regress_values = x_values * slope + intercept\n",
    "line_eq = \"y = \" + str(round(slope,2)) + \"x + \" + str(round(intercept,2))\n",
    "plt.scatter(x_values,y_values)\n",
    "plt.plot(x_values,regress_values,\"r-\")\n",
    "plt.annotate(line_eq,(0,675000),fontsize=15,color=\"red\")\n",
    "plt.xlabel('USA H1N1 Cases')\n",
    "plt.ylabel('US DOMESTIC Flights')\n",
    "plt.title(\"Domestic Flights vs USA H1N1 Cases\")\n",
    "print(f\"The r-squared is: {rvalue}\")\n",
    "plt.savefig(\"plots/scatter_domestic_flights_vs_h1n1.png\")\n",
    "plt.show()"
   ]
  },
  {
   "cell_type": "code",
   "execution_count": null,
   "metadata": {},
   "outputs": [],
   "source": [
    "#create International specific df\n",
    "intl_df = trimmed_flu_data.loc[trimmed_flu_data[\"Country\"] != 'United States of America']\n",
    "\n",
    "#group by Year and Month\n",
    "intl_df = intl_df.groupby(['Year', 'Month']).sum()\n",
    "\n",
    "#remove columns\n",
    "del intl_df['Week']\n",
    "\n",
    "#merge International flight and flu data\n",
    "intl_merged_df = pd.merge(flight_data_df, intl_df, on = ['Year', 'Month'], how=\"inner\")\n",
    "\n",
    "#do a second merge to add average flight df\n",
    "intl_merged_df = pd.merge(intl_merged_df, avg_flight_df, on = 'Month', how = \"inner\", suffixes = (\"\", \"_AVG\"))\n",
    "\n",
    "\n",
    "intl_merged_df.sort_values(by = ['Date'], inplace = True, ascending = True, axis = 0)\n",
    "\n",
    "intl_merged_df"
   ]
  },
  {
   "cell_type": "code",
   "execution_count": null,
   "metadata": {},
   "outputs": [],
   "source": [
    "#plotting the International data\n",
    "\n",
    "plt.figure(figsize = (10,5))\n",
    "ax = plt.gca()\n",
    "\n",
    "intl_merged_df.plot.line(x = 'Date', y='INTERNATIONAL', ax=ax)\n",
    "intl_merged_df.plot.line(x = 'Date', y = 'INTERNATIONAL_AVG', ax=ax, linestyle = '-.')\n",
    "\n",
    "#create a second axis that contains the H1N1 Case data\n",
    "ax3 = intl_merged_df.plot.line(x = 'Date', y='H1N1_Cases', ax=ax, secondary_y = True, label = 'INTL H1N1 Cases')\n",
    "\n",
    "#set titles and labels\n",
    "plt.title(\"International Flights vs International H1N1 Cases\")\n",
    "ax.set_ylabel('# of International Flights')\n",
    "ax3.set_ylabel('# of H1N1 Cases')\n",
    "\n",
    "#show chart\n",
    "plt.savefig(\"plots/line_intl_flights_vs_h1n1.png\")\n",
    "plt.show()"
   ]
  },
  {
   "cell_type": "code",
   "execution_count": null,
   "metadata": {},
   "outputs": [],
   "source": [
    "#run scatter plot and calculate r square\n",
    "x_values = intl_merged_df['H1N1_Cases']\n",
    "y_values = intl_merged_df['DOMESTIC']\n",
    "\n",
    "(slope, intercept, rvalue, pvalue, stderr) = linregress(x_values, y_values)\n",
    "\n",
    "regress_values = x_values * slope + intercept\n",
    "line_eq = \"y = \" + str(round(slope,2)) + \"x + \" + str(round(intercept,2))\n",
    "\n",
    "plt.scatter(x_values,y_values)\n",
    "plt.plot(x_values,regress_values,\"r-\")\n",
    "plt.annotate(line_eq,(0,675000),fontsize=15,color=\"red\")\n",
    "plt.xlabel('INTL H1N1 Cases')\n",
    "plt.ylabel('International Flights')\n",
    "plt.title(\"International Flights vs International H1N1 Cases\")\n",
    "print(f\"The r-squared is: {rvalue}\")\n",
    "plt.savefig(\"plots/scatter_intl_flights_vs_h1n1.png\")\n",
    "plt.show()"
   ]
  },
  {
   "cell_type": "markdown",
   "metadata": {},
   "source": [
    "# H1N1 HeatMap Portion"
   ]
  },
  {
   "cell_type": "code",
   "execution_count": null,
   "metadata": {},
   "outputs": [],
   "source": [
    "lat_lng_df = lat_lng_df.replace(to_replace=['United States'],\n",
    "                value='United States of America')"
   ]
  },
  {
   "cell_type": "code",
   "execution_count": null,
   "metadata": {},
   "outputs": [],
   "source": [
    "#create summary dataframe\n",
    "who_country = flu_data.groupby('Country').sum()\n",
    "who_summary = pd.DataFrame ({\n",
    "                \"H1N1 Case Count\": who_country['H1N1_Cases']\n",
    "})\n",
    "\n",
    "who_summary.sort_values(by = ['H1N1 Case Count'], inplace = True, ascending = False, axis = 0)\n",
    "\n",
    "who_summary = who_summary.reset_index()\n",
    "\n",
    "max_cases = who_summary[\"H1N1 Case Count\"].max()\n",
    "\n",
    "h1n1_countries_latlng = pd.merge(who_summary, lat_lng_df, on = 'Country')\n",
    "\n",
    "h1n1_countries_latlng.head()\n",
    "\n",
    "who_summary\n"
   ]
  },
  {
   "cell_type": "code",
   "execution_count": null,
   "metadata": {},
   "outputs": [],
   "source": [
    "# Access maps with unique API key\n",
    "gmaps.configure(api_key=g_key)\n",
    "\n",
    "locations = h1n1_countries_latlng[[\"Latitude\", \"Longitude\"]]\n",
    "\n",
    "# Plot Heatmap\n",
    "fig = gmaps.figure()\n",
    "\n",
    "# Create heat layer\n",
    "heat_layer = gmaps.heatmap_layer(locations, weights=h1n1_countries_latlng['H1N1 Case Count'], \n",
    "                                 dissipating=False, max_intensity=max_cases)\n",
    "\n",
    "# Add layer\n",
    "fig.add_layer(heat_layer)\n",
    "\n",
    "fig"
   ]
  },
  {
   "cell_type": "code",
   "execution_count": null,
   "metadata": {},
   "outputs": [],
   "source": [
    "#H1N1 Source: https://www.cdc.gov/flu/pandemic-resources/2009-h1n1-pandemic.html\n",
    "\n",
    "deaths = (s_final_summary['Deaths'], 12469, 2000, final_ebola_deaths)\n",
    "\n",
    "x = np.arange(4) \n",
    "width = 0.35       \n",
    "\n",
    "plt.bar(x, deaths, width, label='Deaths')\n",
    "\n",
    "#plt.bar(x + width, cases, width, label='Cases')\n",
    "plt.xlabel('Epidemics')\n",
    "plt.ylabel('Number of Deaths')\n",
    "plt.title('Summary of Epidemic Final Data')\n",
    "plt.xticks(x + width / 2, ('SARS', 'H1N1', 'MERS', 'Ebola'))\n",
    "plt.legend(loc='best')\n",
    "plt.show()\n"
   ]
  },
  {
   "cell_type": "markdown",
   "metadata": {},
   "source": [
    "## MERS Analysis (Maria Soto)"
   ]
  },
  {
   "cell_type": "markdown",
   "metadata": {},
   "source": [
    "### Project MERS dataset\n",
    "* Source: https://www.kaggle.com/imdevskp\n",
    "##### Note: data has already been cleaned by author"
   ]
  },
  {
   "cell_type": "code",
   "execution_count": null,
   "metadata": {},
   "outputs": [],
   "source": [
    "# Study data files\n",
    "country_count = \"MERS Resources/country_count_latest.csv\"\n",
    "mers_weekly = \"MERS Resources/weekly_clean.csv\"\n",
    "\n",
    "# Read the MERS data\n",
    "mers_ByCountry = pd.read_csv(country_count) # Number of cases by Country\n",
    "mers_PerWeek = pd.read_csv(mers_weekly) # Number of cases per week by Region\n",
    "\n",
    "#Display of MERS data by Country\n",
    "mers_PerWeek"
   ]
  },
  {
   "cell_type": "code",
   "execution_count": null,
   "metadata": {},
   "outputs": [],
   "source": [
    "# Number of affected countries\n",
    "mers_count1 = len(mers_PerWeek[\"Region\"].unique())\n",
    "print(f\"{mers_count1} regions were affected by MERS\")"
   ]
  },
  {
   "cell_type": "code",
   "execution_count": null,
   "metadata": {},
   "outputs": [],
   "source": [
    "# Sum all confirmed cases\n",
    "mers_sum1 = mers_PerWeek[\"New Cases\"].sum()\n",
    "print(f\"There are {mers_sum1} confirmed cases\")"
   ]
  },
  {
   "cell_type": "code",
   "execution_count": null,
   "metadata": {},
   "outputs": [],
   "source": [
    "# Group by Date\n",
    "\n",
    "# Merging format Year-Week into format of Date (Year-Month_Day)\n",
    "\n",
    "# Splitting Year and Week columns\n",
    "YearWeeks = mers_PerWeek.loc[:,\"Year\":\"Week\"] \n",
    "\n",
    "from datetime import datetime, timedelta, date \n",
    "\n",
    "def tofirstdayinisoweek(year, week): \n",
    "    ret = datetime.strptime('1-%02d-%04d' % (week, year), '%w-%W-%Y').date() \n",
    "    if date(year, 1, 4).isoweekday() > 4: \n",
    "        ret -= timedelta(days=7) \n",
    "    return ret \n",
    "\n",
    "def tomonthisoweek(year, week): \n",
    "    ret = datetime.strptime('1-%01d-%04d' % (week, year), '%w-%W-%Y').date() \n",
    "    ret = ret.strftime(\"%Y-%m\")\n",
    "    return ret \n",
    "\n",
    "# Creating lists to save the formats\n",
    "Days = [] \n",
    "DayAbrev = []\n",
    "\n",
    "# This loop will change the format from weeks to months/days and from weeks to months\n",
    "for i in YearWeeks.index: \n",
    "    day = tofirstdayinisoweek(YearWeeks[\"Year\"][i],YearWeeks[\"Week\"][i]) \n",
    "    DayAbrev.append(day.strftime(\"%Y-%b-%d\"))\n",
    "    Days.append(day) \n",
    "    \n",
    "Month = [] \n",
    "for i in YearWeeks.index: \n",
    "    month = tomonthisoweek(YearWeeks[\"Year\"][i],YearWeeks[\"Week\"][i]) \n",
    "    Month.append(month) \n",
    "\n",
    "mers_PerWeek['Date'] = Days \n",
    "mers_PerWeek['DateAbrev'] = DayAbrev\n",
    "mers_PerWeek['Year and Month'] = Month \n",
    "\n",
    "mers_PerWeek.head()"
   ]
  },
  {
   "cell_type": "code",
   "execution_count": null,
   "metadata": {},
   "outputs": [],
   "source": [
    "### Plotting MERS cases vs Time"
   ]
  },
  {
   "cell_type": "code",
   "execution_count": null,
   "metadata": {},
   "outputs": [],
   "source": [
    "# Plotting MERS cases over Time\n",
    "figure(num=None, figsize=(20,6))\n",
    "ax = plt.gca()\n",
    "\n",
    "mers_PerWeekTotal.reset_index().plot(kind='line',x='Date',y='New Cases',ax=ax, color='b')\n",
    "plt.setp(ax.get_xticklabels(), rotation=90, ha=\"right\") #Change orientation of tick labels\n",
    "ax.xaxis.set_major_formatter(mdates.DateFormatter('%d-%m-%Y')) #Defining format\n",
    "ax.set_xlabel(\"Date\", fontsize=16)\n",
    "ax.set_ylabel(\"Number of cases \", fontsize=14)\n",
    "ax.set_title(\"Total MERS Cases vs Time\", fontsize=18)\n",
    "ax.get_legend().remove()\n",
    "ax.set_xlim(mers_PerWeekTotal.index[0], mers_PerWeekTotal.index[-1])\n",
    "\n",
    "plt.show()"
   ]
  },
  {
   "cell_type": "code",
   "execution_count": null,
   "metadata": {},
   "outputs": [],
   "source": [
    "#Defining x, y variable to plott by Region\n",
    "saudi_date = mers_PerWeek.loc[mers_PerWeek[\"Region\"]==\"Saudi Arabia\",[\"Date\"]]\n",
    "saudi_cases = mers_PerWeek.loc[mers_PerWeek[\"Region\"]==\"Saudi Arabia\",[\"New Cases\"]]\n",
    "saudi_month = mers_PerWeek.loc[mers_PerWeek[\"Region\"]==\"Saudi Arabia\",[\"Year and Month\"]]\n",
    "saudi_year = mers_PerWeek.loc[mers_PerWeek[\"Region\"]==\"Saudi Arabia\",[\"Year\"]]\n",
    "saudi = pd.DataFrame({\"Date\":saudi_date[\"Date\"],\"Year and Month\":saudi_month[\"Year and Month\"],\"Year\":saudi_year[\"Year\"],\"Cases\":saudi_cases[\"New Cases\"]})\n",
    "\n",
    "korea_date = mers_PerWeek.loc[mers_PerWeek[\"Region\"]==\"Republic of Korea\",[\"Date\"]]\n",
    "korea_cases = mers_PerWeek.loc[mers_PerWeek[\"Region\"]==\"Republic of Korea\",[\"New Cases\"]]\n",
    "korea = pd.DataFrame({\"Date\":korea_date[\"Date\"],\"Cases\":korea_cases[\"New Cases\"]})\n",
    "\n",
    "other_date = mers_PerWeek.loc[mers_PerWeek[\"Region\"]==\"Other Countries\",[\"Date\"]]\n",
    "other_cases = mers_PerWeek.loc[mers_PerWeek[\"Region\"]==\"Other Countries\",[\"New Cases\"]]\n",
    "other = pd.DataFrame({\"Date\":other_date[\"Date\"],\"Cases\":other_cases[\"New Cases\"]})\n",
    "\n",
    "saudi"
   ]
  },
  {
   "cell_type": "code",
   "execution_count": null,
   "metadata": {},
   "outputs": [],
   "source": [
    "# Plotting MERS cases over Time\n",
    "plt.figure(figsize=(20,6))\n",
    "ax = plt.gca()\n",
    "\n",
    "saudi.plot.line(x='Date',y='Cases',ax=ax, color='b', secondary_y=True, label=\"Saudi Arabia\")\n",
    "korea.plot.line(x='Date',y='Cases',ax=ax, color='r', label=\"Rep. of Korea\")\n",
    "other.plot.line(x='Date',y='Cases',ax=ax, color='k', label=\"Other Countries\")\n",
    "ax.xaxis.set_major_formatter(mdates.DateFormatter('%d-%m-%Y')) #Defining format\n",
    "plt.setp(ax.get_xticklabels(), rotation=90, ha=\"right\", fontsize=14) #Change orientation of tick labels\n",
    "ax.set_xlabel(\"Date\", fontsize=14)\n",
    "ax.set_ylabel(\"Number of cases \", fontsize=14)\n",
    "ax.set_title(\"MERS Cases By Region vs Time\", fontsize=16)\n",
    "ax.get_legend()\n",
    "ax.set_ylim(0,)\n",
    "plt.show()"
   ]
  },
  {
   "cell_type": "code",
   "execution_count": null,
   "metadata": {},
   "outputs": [],
   "source": [
    "mers_flight_data = \"MERS Resources/MERS_SaudiArabia_2012-2019.csv\"\n",
    "\n",
    "mers_flights = pd.read_csv(mers_flight_data)\n",
    "mers_flights"
   ]
  },
  {
   "cell_type": "code",
   "execution_count": null,
   "metadata": {},
   "outputs": [],
   "source": [
    "#Grouping, counting and creating a new data set with the data to plot Flight per Month\n",
    "grouped_mers_flights = mers_flights.groupby('YEAR')\n",
    "mers_flight_date = grouped_mers_flights.count()\n",
    "mers_flight_date = mers_flight_date.reset_index()\n",
    "\n",
    "mers_flight_df = pd.DataFrame({\"Year\":mers_flight_date['YEAR'], \"Flights per Month\": mers_flight_date[\"PASSENGERS\"]})\n",
    "\n",
    "mers_flight_df"
   ]
  },
  {
   "cell_type": "code",
   "execution_count": null,
   "metadata": {},
   "outputs": [],
   "source": [
    "ax = plt.gca()\n",
    "mers_flight_df.plot.line(x ='Year', y='Flights per Month',ax=ax, color='b', linewidth=1)\n",
    "plt.title('Flights between the USA and Saudi Arabia', fontsize=14)\n",
    "plt.ylabel(\"Number of Flights\", fontsize=13)\n",
    "plt.xlabel(\"Date\", fontsize=13)\n",
    "plt.xlim()\n",
    "\n",
    "plt.show()"
   ]
  },
  {
   "cell_type": "code",
   "execution_count": null,
   "metadata": {},
   "outputs": [],
   "source": [
    "saudi_group = saudi.groupby(['Year']).sum()\n",
    "\n",
    "merged_saudi_mers = pd.merge(saudi_group, mers_flight_df, on = [\"Year\"], how=\"inner\")\n",
    "merged_saudi_mers"
   ]
  },
  {
   "cell_type": "code",
   "execution_count": null,
   "metadata": {},
   "outputs": [],
   "source": [
    "# Plotting the MERS cases vs Flights between US and Saudi Arabia (per month)\n",
    "figure(num=None, figsize=(15,6))\n",
    "ax = plt.gca()\n",
    "\n",
    "merged_saudi_mers.plot.line(x='Year',y ='Flights per Month',ax=ax, color='green', secondary_y=True, label=\"Saudi Arabia Flights\")\n",
    "merged_saudi_mers.plot.line(x='Year',y ='Cases',ax=ax, color='b', label=\"Saudi Arabia MERS Cases\")\n",
    "\n",
    "\n",
    "#Aesthetics\n",
    "plt.setp(ax.get_xticklabels(), ha=\"center\") #Change orientation of tick labels\n",
    "#ax.xaxis.set_major_formatter(mdates.DateFormatter('%m-%y')) #Define date format\n",
    "ax.set_xlabel(\"Date\", fontsize=14)\n",
    "ax.set_ylabel(\"Number of cases \", fontsize=14)\n",
    "ax.set_title(\"MERS Impact on Flights to and from Saudi Arabia\", fontsize=16)\n",
    "plt.show()"
   ]
  },
  {
   "cell_type": "code",
   "execution_count": null,
   "metadata": {},
   "outputs": [],
   "source": [
    "#Defining x and y\n",
    "figure(num=None, figsize=(7,5))\n",
    "x_values = merged_saudi_mers[\"Cases\"]\n",
    "y_values = merged_saudi_mers[\"Flights per Month\"]\n",
    "\n",
    "# Get slope, intercept from linregress() to plot y' = intercept + slope*x\n",
    "(slope, intercept, rvalue, pvalue, stderr) = linregress(x_values, y_values)\n",
    "# Plot linear regression line.\n",
    "y_pred = x_values * slope + intercept\n",
    "equation = \"y =\" + str(round(slope,2)) + \"x + \" + str(round(intercept,2))\n",
    "r2value = round(rvalue, 6)\n",
    "print(f\"The r-squared is: {rvalue}\")\n",
    "print(f'y = ' + str(round(slope,2)) + 'x + ' + str(round(intercept,2)))\n",
    "\n",
    "#Plotting the scatter chart and line regression\n",
    "\n",
    "plt.scatter(x_values,y_values, marker=\"o\", color = \"blue\")\n",
    "plt.plot(x_values,y_pred,\"r-\")\n",
    "\n",
    "#Aaesthetics\n",
    "plt.annotate(equation,(400,140),fontsize=13,color=\"red\")\n",
    "plt.annotate(r2value,(420,130),fontsize=13,color=\"red\")\n",
    "plt.title(\"Flights to Saudi Arabia vs MERS Cases\", fontsize=14)\n",
    "plt.xlabel(\"Number of Cases\", fontsize=12)\n",
    "plt.ylabel(\"Flights per Month\", fontsize=13)\n",
    "\n",
    "plt.show()"
   ]
  },
  {
   "cell_type": "markdown",
   "metadata": {},
   "source": [
    "### MERS HeatMap"
   ]
  },
  {
   "cell_type": "code",
   "execution_count": null,
   "metadata": {},
   "outputs": [],
   "source": [
    "mers_ByCountry"
   ]
  },
  {
   "cell_type": "code",
   "execution_count": null,
   "metadata": {},
   "outputs": [],
   "source": [
    "lat_lng_csv = \"citycoords.csv\"\n",
    "lat_lng_df = pd.read_csv(lat_lng_csv)\n",
    "lat_lng_df = lat_lng_df.rename(columns={\"name_long\": \"Country\"})\n",
    "\n",
    "countries_lat_lng = pd.merge(mers_ByCountry, lat_lng_df, on='Country')\n",
    "\n",
    "# Access maps with unique API key\n",
    "gmaps.configure(api_key=g_key)\n",
    "\n",
    "locations = countries_lat_lng[[\"Latitude\", \"Longitude\"]]\n",
    "\n",
    "# Plot Heatmap\n",
    "fig = gmaps.figure()\n",
    "\n",
    "# Create heat layer\n",
    "heat_layer = gmaps.heatmap_layer(locations, weights=countries_lat_lng['Confirmed'], \n",
    "                                 dissipating=False, max_intensity=70,\n",
    "                                 point_radius=5)\n",
    "\n",
    "# Add layer\n",
    "fig.add_layer(heat_layer)\n",
    "\n",
    "# Display figure\n",
    "fig\n"
   ]
  },
  {
   "cell_type": "code",
   "execution_count": null,
   "metadata": {},
   "outputs": [],
   "source": []
  },
  {
   "cell_type": "code",
   "execution_count": null,
   "metadata": {},
   "outputs": [],
   "source": []
  },
  {
   "cell_type": "code",
   "execution_count": null,
   "metadata": {},
   "outputs": [],
   "source": []
  }
 ],
 "metadata": {
  "kernelspec": {
   "display_name": "Python 3",
   "language": "python",
   "name": "python3"
  },
  "language_info": {
   "codemirror_mode": {
    "name": "ipython",
    "version": 3
   },
   "file_extension": ".py",
   "mimetype": "text/x-python",
   "name": "python",
   "nbconvert_exporter": "python",
   "pygments_lexer": "ipython3",
   "version": "3.7.4"
  }
 },
 "nbformat": 4,
 "nbformat_minor": 2
}
